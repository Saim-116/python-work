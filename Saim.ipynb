{
 "cells": [
  {
   "cell_type": "code",
   "execution_count": 1,
   "id": "4ccd5a17-8b12-4d1c-9ae1-2dd4225675f9",
   "metadata": {},
   "outputs": [
    {
     "name": "stdout",
     "output_type": "stream",
     "text": [
      "Twinkle, twinkle, little star,\n",
      "\tHow I wonder what you are!\n",
      "\t\tUp above the world so high,\n",
      "\t\tLike a diamond in the sky.\n",
      "Twinkle, twinkle, little star,\n",
      "\tHow I wonder what you are\n"
     ]
    }
   ],
   "source": [
    "print(\"Twinkle, twinkle, little star,\\n\\tHow I wonder what you are!\\n\\t\\tUp above the world so high,\\n\\t\\tLike a diamond in the sky.\\nTwinkle, twinkle, little star,\\n\\tHow I wonder what you are\")\n"
   ]
  },
  {
   "cell_type": "code",
   "execution_count": 3,
   "id": "27ed322e-8632-4bf1-8bc0-a6d8d0d094dc",
   "metadata": {},
   "outputs": [
    {
     "name": "stdout",
     "output_type": "stream",
     "text": [
      "Python version: 3.12.4 | packaged by Anaconda, Inc. | (main, Jun 18 2024, 15:03:56) [MSC v.1929 64 bit (AMD64)]\n"
     ]
    }
   ],
   "source": [
    "import sys\n",
    "\n",
    "print(\"Python version:\", sys.version)\n"
   ]
  },
  {
   "cell_type": "code",
   "execution_count": 5,
   "id": "e3fc3187-e5ff-4508-a18d-819d2e5f149d",
   "metadata": {},
   "outputs": [
    {
     "name": "stdout",
     "output_type": "stream",
     "text": [
      "Current date and time: 2024-08-02 02:39:46.653795\n"
     ]
    }
   ],
   "source": [
    "import datetime\n",
    "\n",
    "now = datetime.datetime.now()\n",
    "\n",
    "print(\"Current date and time:\", now)\n"
   ]
  },
  {
   "cell_type": "code",
   "execution_count": 7,
   "id": "0f18b3bb-72b9-4b5a-832c-354ee706dcc1",
   "metadata": {},
   "outputs": [
    {
     "name": "stdin",
     "output_type": "stream",
     "text": [
      "Enter the radius of the circle:  6.4\n"
     ]
    },
    {
     "name": "stdout",
     "output_type": "stream",
     "text": [
      "The area of the circle is: 128.67963509103794\n"
     ]
    }
   ],
   "source": [
    "import math\n",
    "\n",
    "radius = float(input(\"Enter the radius of the circle: \"))\n",
    "area = math.pi * radius * radius\n",
    "\n",
    "print(\"The area of the circle is:\", area)\n"
   ]
  },
  {
   "cell_type": "code",
   "execution_count": 9,
   "id": "11833de1-02c9-4918-8357-11804de0b906",
   "metadata": {},
   "outputs": [
    {
     "name": "stdin",
     "output_type": "stream",
     "text": [
      "Enter your first name:  muhammad \n",
      "Enter your last name:  saim\n"
     ]
    },
    {
     "name": "stdout",
     "output_type": "stream",
     "text": [
      "saim muhammad \n"
     ]
    }
   ],
   "source": [
    "first_name = input(\"Enter your first name: \")\n",
    "last_name = input(\"Enter your last name: \")\n",
    "\n",
    "print(last_name, first_name)\n"
   ]
  },
  {
   "cell_type": "code",
   "execution_count": 13,
   "id": "e0cda5cc-c452-4d54-add6-6560b36c09a9",
   "metadata": {},
   "outputs": [
    {
     "name": "stdin",
     "output_type": "stream",
     "text": [
      "Enter the first number:  2\n",
      "Enter the second number:  3\n"
     ]
    },
    {
     "name": "stdout",
     "output_type": "stream",
     "text": [
      "The sum of 2 and 3 is: 5\n"
     ]
    }
   ],
   "source": [
    "num1 = int(input(\"Enter the first number: \"))\n",
    "num2 = int(input(\"Enter the second number: \"))\n",
    "\n",
    "sum = num1 + num2\n",
    "\n",
    "print(\"The sum of\", num1, \"and\", num2, \"is:\", sum)\n"
   ]
  },
  {
   "cell_type": "code",
   "execution_count": 17,
   "id": "3e8f1acf-7774-44a0-bd22-7416c7f8cc4b",
   "metadata": {},
   "outputs": [
    {
     "name": "stdin",
     "output_type": "stream",
     "text": [
      "Enter marks for Subject 1:  60\n",
      "Enter marks for Subject 2:  60\n",
      "Enter marks for Subject 3:  60\n",
      "Enter marks for Subject 4:  60\n",
      "Enter marks for Subject 5:  61\n"
     ]
    },
    {
     "name": "stdout",
     "output_type": "stream",
     "text": [
      "\n",
      "Marksheet\n",
      "                    \n",
      "Subject 1: 60.0\n",
      "Subject 2: 60.0\n",
      "Subject 3: 60.0\n",
      "Subject 4: 60.0\n",
      "Subject 5: 61.0\n",
      "                    \n",
      "Total Marks: 301.0\n",
      "Percentage: 60.20%\n",
      "Grade: C\n"
     ]
    }
   ],
   "source": [
    "def calculate_grade(percentage):\n",
    "  if percentage >= 90:\n",
    "    return \"A+\"\n",
    "  elif percentage >= 80:\n",
    "    return \"A\"\n",
    "  elif percentage >= 70:\n",
    "    return \"B\"\n",
    "  elif percentage >= 60:\n",
    "    return \"C\"\n",
    "  elif percentage >= 50:\n",
    "    return \"D\"\n",
    "  else:\n",
    "    return \"F\"\n",
    "\n",
    "def generate_marksheet():\n",
    "  subjects = [\"Subject 1\", \"Subject 2\", \"Subject 3\", \"Subject 4\", \"Subject 5\"]\n",
    "  marks = []\n",
    "  total_marks = 0\n",
    "\n",
    "  for subject in subjects:\n",
    "    mark = float(input(f\"Enter marks for {subject}: \"))\n",
    "    marks.append(mark)\n",
    "    total_marks += mark\n",
    "\n",
    "  percentage = (total_marks / (len(subjects) * 100)) * 100\n",
    "  grade = calculate_grade(percentage)\n",
    "\n",
    "  print(\"\\nMarksheet\")\n",
    "  print(\" \" * 20)\n",
    "  for i in range(len(subjects)):\n",
    "    print(f\"{subjects[i]}: {marks[i]}\")\n",
    "  print(\" \" * 20)\n",
    "  print(f\"Total Marks: {total_marks}\")\n",
    "  print(f\"Percentage: {percentage:.2f}%\")\n",
    "  print(f\"Grade: {grade}\")\n",
    "\n",
    "generate_marksheet()\n"
   ]
  },
  {
   "cell_type": "code",
   "execution_count": 19,
   "id": "5eb1acf1-6b7c-4d5b-a87a-d9df3322608d",
   "metadata": {},
   "outputs": [
    {
     "name": "stdin",
     "output_type": "stream",
     "text": [
      "Enter a number:  787\n"
     ]
    },
    {
     "name": "stdout",
     "output_type": "stream",
     "text": [
      "787 is odd\n"
     ]
    }
   ],
   "source": [
    "number = int(input(\"Enter a number: \"))\n",
    "\n",
    "if number % 2 == 0:\n",
    "  print(number, \"is even\")\n",
    "else:\n",
    "  print(number, \"is odd\")\n"
   ]
  },
  {
   "cell_type": "code",
   "execution_count": 23,
   "id": "43cc5339-8d30-4555-a761-bbf9fe3695cc",
   "metadata": {},
   "outputs": [
    {
     "name": "stdout",
     "output_type": "stream",
     "text": [
      "length of the list is: 10\n"
     ]
    }
   ],
   "source": [
    "saim = [1,2,3,4,5,6,7,8,9,10]\n",
    "length = len(saim)\n",
    "print(\"length of the list is:\", length)\n"
   ]
  },
  {
   "cell_type": "code",
   "execution_count": 35,
   "id": "dccc5495-0a57-4a12-a2e9-4067aadf48b3",
   "metadata": {},
   "outputs": [
    {
     "name": "stdout",
     "output_type": "stream",
     "text": [
      "Sum of numeric items: 15\n"
     ]
    }
   ],
   "source": [
    "def sum_list(numbers):\n",
    "  total = 0\n",
    "  for num in numbers:\n",
    "    if isinstance(num, (int, float)):\n",
    "      total += num\n",
    "  return total\n",
    "\n",
    "my_list = [1,\"muhammad\",2,\"saim\",3,4,5]\n",
    "result = sum_list(my_list)\n",
    "print(\"Sum of numeric items:\", result)\n"
   ]
  },
  {
   "cell_type": "code",
   "execution_count": 37,
   "id": "6d390124-453d-4105-9069-6b8e91264dfd",
   "metadata": {},
   "outputs": [
    {
     "name": "stdout",
     "output_type": "stream",
     "text": [
      "The largest number is: 9\n"
     ]
    }
   ],
   "source": [
    "def find_largest_number(numbers):\n",
    "  largest = numbers[0]\n",
    "  for num in numbers:\n",
    "    if num > largest:\n",
    "      largest = num\n",
    "  return largest\n",
    "\n",
    "my_list = [8,6,7,9,4]\n",
    "largest_number = find_largest_number(my_list)\n",
    "print(\"The largest number is:\", largest_number)\n"
   ]
  },
  {
   "cell_type": "code",
   "execution_count": 39,
   "id": "9209b23a-cdd6-4708-8941-642ccdab4d72",
   "metadata": {},
   "outputs": [
    {
     "name": "stdout",
     "output_type": "stream",
     "text": [
      "1\n",
      "1\n",
      "2\n",
      "3\n"
     ]
    }
   ],
   "source": [
    "a = [1, 1, 2, 3, 5, 8, 13, 21, 34, 55, 89]\n",
    "\n",
    "for num in a:\n",
    "  if num < 5:\n",
    "    print(num)\n"
   ]
  }
 ],
 "metadata": {
  "kernelspec": {
   "display_name": "Python 3 (ipykernel)",
   "language": "python",
   "name": "python3"
  },
  "language_info": {
   "codemirror_mode": {
    "name": "ipython",
    "version": 3
   },
   "file_extension": ".py",
   "mimetype": "text/x-python",
   "name": "python",
   "nbconvert_exporter": "python",
   "pygments_lexer": "ipython3",
   "version": "3.12.4"
  }
 },
 "nbformat": 4,
 "nbformat_minor": 5
}
